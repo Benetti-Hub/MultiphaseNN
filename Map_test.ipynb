{
 "cells": [
  {
   "cell_type": "markdown",
   "metadata": {},
   "source": [
    "# Map Generator"
   ]
  },
  {
   "cell_type": "code",
   "execution_count": 1,
   "metadata": {},
   "outputs": [],
   "source": [
    "#This script is used to generate any type of flow map (as function of the superficial velocities)\n",
    "#The parameters can be set below, the units of measure are specified in the comments on the right of each line\n",
    "\n",
    "import pandas as pd\n",
    "import numpy as np\n",
    "\n",
    "import torch\n",
    "import torch.nn as nn\n",
    "import torch.nn.functional as F\n",
    "import torch.optim as optim\n",
    "\n",
    "import matplotlib\n",
    "import matplotlib.pyplot as plt\n",
    "from matplotlib import style\n",
    "%matplotlib inline"
   ]
  },
  {
   "cell_type": "code",
   "execution_count": 2,
   "metadata": {},
   "outputs": [],
   "source": [
    "#Creating a log spaced set of points:\n",
    "liquid = 10.**(np.arange(-3, 1))\n",
    "gas = 10.**(np.arange(-2, 2))\n",
    "a2 = np.arange(1,10,0.1)\n",
    "a3 = np.arange(1,10,0.1)"
   ]
  },
  {
   "cell_type": "code",
   "execution_count": 3,
   "metadata": {},
   "outputs": [],
   "source": [
    "length = np.outer(liquid, a2).flatten()\n",
    "height = np.outer(gas, a3).flatten()"
   ]
  },
  {
   "cell_type": "code",
   "execution_count": 4,
   "metadata": {},
   "outputs": [],
   "source": [
    "mapping=[]\n",
    "for i in length:\n",
    "    for j in height:\n",
    "        mapping.append([i, j])\n",
    "    \n",
    "final_test = pd.DataFrame(mapping, columns=['Vsl','Vsg'])    "
   ]
  },
  {
   "cell_type": "markdown",
   "metadata": {},
   "source": [
    "# Parameters settings and Net loading"
   ]
  },
  {
   "cell_type": "code",
   "execution_count": 5,
   "metadata": {},
   "outputs": [],
   "source": [
    "P = np.full(len(mapping), 101) #KPa\n",
    "T = np.full(len(mapping), 25) #°C\n",
    "DenL = np.full(len(mapping), 1000) #Kg/m^3\n",
    "DenG = np.full(len(mapping), 1.2) #Kg/m^3\n",
    "VisL = np.full(len(mapping), 0.001) #Pa*s\n",
    "ST = np.full(len(mapping), 0.07) #N/m\n",
    "ID = np.full(len(mapping), 0.0254) #m\n",
    "Ang= np.full(len(mapping), 0) #Degree"
   ]
  },
  {
   "cell_type": "code",
   "execution_count": 6,
   "metadata": {},
   "outputs": [],
   "source": [
    "preprocess = pd.DataFrame([P, T, DenL, DenG, VisL, ST, ID, Ang]).transpose()\n",
    "preprocess.columns =['P','T', 'DenL', 'DenG', 'VisL', 'ST','ID', 'Ang']"
   ]
  },
  {
   "cell_type": "code",
   "execution_count": 7,
   "metadata": {},
   "outputs": [],
   "source": [
    "df_map = pd.concat([preprocess,final_test], axis=1)"
   ]
  },
  {
   "cell_type": "code",
   "execution_count": 8,
   "metadata": {},
   "outputs": [],
   "source": [
    "#We operate on the CPU beacuse we can't do better given the dataset size, if expanded, try change this to \"cuda\"\n",
    "device = torch.device(\"cpu\")"
   ]
  },
  {
   "cell_type": "code",
   "execution_count": 9,
   "metadata": {},
   "outputs": [],
   "source": [
    "class Net(nn.Module):\n",
    "    def __init__(self):\n",
    "        super().__init__()\n",
    "        #Input = Multiphase flow properties Output =  neurons\n",
    "        self.fc1 = nn.Linear(10, 64)\n",
    "        self.fc2 = nn.Linear(64, 64)\n",
    "        self.fc4 = nn.Linear(64, 5)\n",
    "    \n",
    "    def forward(self, x):\n",
    "        #Activation function in F.relu (rectified linear)\n",
    "        x = F.relu(self.fc1(x))\n",
    "        x = F.relu(self.fc2(x))\n",
    "        x = self.fc4(x)\n",
    "        \n",
    "        return F.log_softmax(x, dim=1, )"
   ]
  },
  {
   "cell_type": "code",
   "execution_count": 10,
   "metadata": {},
   "outputs": [
    {
     "data": {
      "text/plain": [
       "Net(\n",
       "  (fc1): Linear(in_features=10, out_features=64, bias=True)\n",
       "  (fc2): Linear(in_features=64, out_features=64, bias=True)\n",
       "  (fc4): Linear(in_features=64, out_features=5, bias=True)\n",
       ")"
      ]
     },
     "execution_count": 10,
     "metadata": {},
     "output_type": "execute_result"
    }
   ],
   "source": [
    "net = Net().to(device)\n",
    "checkpoint = torch.load('./NNKLD.pth', map_location='cpu')\n",
    "net.load_state_dict(checkpoint['net_state_dict'])\n",
    "net.eval()"
   ]
  },
  {
   "cell_type": "markdown",
   "metadata": {},
   "source": [
    "# Normalization and Evaluation"
   ]
  },
  {
   "cell_type": "code",
   "execution_count": 11,
   "metadata": {},
   "outputs": [],
   "source": [
    "#This dataset is raw, we can however we have the normalizing constants from the preprocessing script\n",
    "normalizing = pd.read_csv('Data/Normalizing.csv')\n",
    "#We take every element of the df and normalize them:\n",
    "val_n = np.zeros([df_map.shape[0], df_map.shape[1]])\n",
    "for isig in range(df_map.shape[1]):\n",
    "    val_n[:,isig]=(df_map.iloc[:,isig]-normalizing.iloc[isig,0])/normalizing.iloc[isig,1]\n",
    "    \n",
    "df_test = pd.DataFrame(val_n, columns=['P','T', 'DenL', 'DenG', 'VisL', 'ST','ID', 'Ang','Vsl', 'Vsg'])"
   ]
  },
  {
   "cell_type": "code",
   "execution_count": 12,
   "metadata": {},
   "outputs": [],
   "source": [
    "X_old = np.array(df_test)\n",
    "X_validation = torch.Tensor(X_old)\n",
    "predicted = []\n",
    "for i in range(0, len(X_validation)):\n",
    "    net_out = net(X_validation[[i]])\n",
    "    predicted.append(torch.argmax(net_out).item())"
   ]
  },
  {
   "cell_type": "code",
   "execution_count": 13,
   "metadata": {},
   "outputs": [],
   "source": [
    "Total = pd.concat([df_map, pd.DataFrame(predicted, columns=['Predicted'])],axis=1)"
   ]
  },
  {
   "cell_type": "markdown",
   "metadata": {},
   "source": [
    "# The Map"
   ]
  },
  {
   "cell_type": "code",
   "execution_count": 14,
   "metadata": {},
   "outputs": [
    {
     "data": {
      "image/png": "[encoded data removed]",
      "text/plain": [
       "<Figure size 432x288 with 1 Axes>"
      ]
     },
     "metadata": {
      "needs_background": "light"
     },
     "output_type": "display_data"
    }
   ],
   "source": [
    "Y_map = np.array(Total['Vsl'])\n",
    "X_map = np.array(Total['Vsg'])\n",
    "categories = Total['Predicted']\n",
    "#Dict = {red:'Dispersed Bubble', green:'Stratifeid Smoth', beige:'Stratified Wavy', navy:'Annular', cyan:'Intermittent'} \n",
    "colormap = np.array(['r', 'g', 'beige', 'navy', 'c'])\n",
    "c=colormap[categories]\n",
    "\n",
    "fig = plt.figure()\n",
    "ax = fig.add_subplot(1, 1, 1, facecolor='None')\n",
    "ax.set_yscale('log')\n",
    "ax.set_xscale('log')\n",
    "ax.scatter(X_map, Y_map, s=40, c=colormap[categories], edgecolors='none',alpha=0.9)\n",
    "\n",
    "plt.xlim([0.01,100])\n",
    "plt.ylim([0.001,10])\n",
    "\n",
    "plt.xlabel('Gas Velocity [m/s]')\n",
    "plt.ylabel('Liquid Velocity [m/s]')\n",
    "\n",
    "plt.show()"
   ]
  },
  {
   "cell_type": "code",
   "execution_count": null,
   "metadata": {},
   "outputs": [],
   "source": []
  }
 ],
 "metadata": {
  "kernelspec": {
   "display_name": "Python 3",
   "language": "python",
   "name": "python3"
  },
  "language_info": {
   "codemirror_mode": {
    "name": "ipython",
    "version": 3
   },
   "file_extension": ".py",
   "mimetype": "text/x-python",
   "name": "python",
   "nbconvert_exporter": "python",
   "pygments_lexer": "ipython3",
   "version": "3.7.6"
  }
 },
 "nbformat": 4,
 "nbformat_minor": 4
}
