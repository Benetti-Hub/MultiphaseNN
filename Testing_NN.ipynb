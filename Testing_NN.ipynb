{
 "cells": [
  {
   "cell_type": "code",
   "execution_count": 1,
   "metadata": {},
   "outputs": [],
   "source": [
    "#This is the script to test the neural network:\n",
    "import pandas as pd\n",
    "import numpy as np\n",
    "import torch\n",
    "import torch.nn as nn\n",
    "import torch.nn.functional as F\n",
    "import torch.optim as optim"
   ]
  },
  {
   "cell_type": "code",
   "execution_count": 2,
   "metadata": {},
   "outputs": [],
   "source": [
    "#We operate on the CPU beacuse we can't do better for the moment\n",
    "device = torch.device(\"cpu\")"
   ]
  },
  {
   "cell_type": "code",
   "execution_count": 3,
   "metadata": {},
   "outputs": [],
   "source": [
    "class Net(nn.Module):\n",
    "    def __init__(self):\n",
    "        super().__init__()\n",
    "        #Input = Multiphase flow properties Output =  neurons\n",
    "        self.fc1 = nn.Linear(10, 64)\n",
    "        self.fc2 = nn.Linear(64, 64)\n",
    "        self.fc4 = nn.Linear(64, 5)\n",
    "    \n",
    "    def forward(self, x):\n",
    "        #Activation function in F.relu (rectified linear)\n",
    "        x = F.relu(self.fc1(x))\n",
    "        x = F.relu(self.fc2(x))\n",
    "        x = self.fc4(x)\n",
    "        \n",
    "        return F.log_softmax(x, dim=1, )"
   ]
  },
  {
   "cell_type": "code",
   "execution_count": 4,
   "metadata": {},
   "outputs": [
    {
     "data": {
      "text/plain": [
       "Net(\n",
       "  (fc1): Linear(in_features=10, out_features=64, bias=True)\n",
       "  (fc2): Linear(in_features=64, out_features=64, bias=True)\n",
       "  (fc4): Linear(in_features=64, out_features=5, bias=True)\n",
       ")"
      ]
     },
     "execution_count": 4,
     "metadata": {},
     "output_type": "execute_result"
    }
   ],
   "source": [
    "net = Net().to(device)\n",
    "checkpoint = torch.load('./NNKLD.pth', map_location='cpu')\n",
    "net.load_state_dict(checkpoint['net_state_dict'])\n",
    "net.eval()"
   ]
  },
  {
   "cell_type": "code",
   "execution_count": 5,
   "metadata": {},
   "outputs": [
    {
     "data": {
      "text/html": [
       "<div>\n",
       "<style scoped>\n",
       "    .dataframe tbody tr th:only-of-type {\n",
       "        vertical-align: middle;\n",
       "    }\n",
       "\n",
       "    .dataframe tbody tr th {\n",
       "        vertical-align: top;\n",
       "    }\n",
       "\n",
       "    .dataframe thead th {\n",
       "        text-align: right;\n",
       "    }\n",
       "</style>\n",
       "<table border=\"1\" class=\"dataframe\">\n",
       "  <thead>\n",
       "    <tr style=\"text-align: right;\">\n",
       "      <th></th>\n",
       "      <th>P</th>\n",
       "      <th>T</th>\n",
       "      <th>DenL</th>\n",
       "      <th>DenG</th>\n",
       "      <th>VisL</th>\n",
       "      <th>ST</th>\n",
       "      <th>ID</th>\n",
       "      <th>Ang</th>\n",
       "      <th>Vsl</th>\n",
       "      <th>Vsg</th>\n",
       "      <th>Flow Pattern.1</th>\n",
       "    </tr>\n",
       "  </thead>\n",
       "  <tbody>\n",
       "    <tr>\n",
       "      <th>0</th>\n",
       "      <td>103.5</td>\n",
       "      <td>25.0</td>\n",
       "      <td>1000.0</td>\n",
       "      <td>1.200</td>\n",
       "      <td>0.001</td>\n",
       "      <td>0.070</td>\n",
       "      <td>0.0510</td>\n",
       "      <td>-80.0</td>\n",
       "      <td>0.898129</td>\n",
       "      <td>0.243692</td>\n",
       "      <td>3</td>\n",
       "    </tr>\n",
       "    <tr>\n",
       "      <th>1</th>\n",
       "      <td>100.0</td>\n",
       "      <td>20.0</td>\n",
       "      <td>1000.0</td>\n",
       "      <td>1.120</td>\n",
       "      <td>0.001</td>\n",
       "      <td>0.070</td>\n",
       "      <td>0.0254</td>\n",
       "      <td>0.0</td>\n",
       "      <td>0.121951</td>\n",
       "      <td>4.481707</td>\n",
       "      <td>4</td>\n",
       "    </tr>\n",
       "    <tr>\n",
       "      <th>2</th>\n",
       "      <td>100.0</td>\n",
       "      <td>22.0</td>\n",
       "      <td>860.0</td>\n",
       "      <td>4.134</td>\n",
       "      <td>0.007</td>\n",
       "      <td>0.032</td>\n",
       "      <td>0.0512</td>\n",
       "      <td>-1.0</td>\n",
       "      <td>0.371803</td>\n",
       "      <td>0.839364</td>\n",
       "      <td>4</td>\n",
       "    </tr>\n",
       "    <tr>\n",
       "      <th>3</th>\n",
       "      <td>103.9</td>\n",
       "      <td>25.0</td>\n",
       "      <td>1000.0</td>\n",
       "      <td>1.200</td>\n",
       "      <td>0.001</td>\n",
       "      <td>0.070</td>\n",
       "      <td>0.0250</td>\n",
       "      <td>-80.0</td>\n",
       "      <td>0.106229</td>\n",
       "      <td>4.068800</td>\n",
       "      <td>2</td>\n",
       "    </tr>\n",
       "    <tr>\n",
       "      <th>4</th>\n",
       "      <td>103.1</td>\n",
       "      <td>25.0</td>\n",
       "      <td>1000.0</td>\n",
       "      <td>1.200</td>\n",
       "      <td>0.001</td>\n",
       "      <td>0.070</td>\n",
       "      <td>0.0250</td>\n",
       "      <td>-30.0</td>\n",
       "      <td>0.010311</td>\n",
       "      <td>0.015488</td>\n",
       "      <td>2</td>\n",
       "    </tr>\n",
       "  </tbody>\n",
       "</table>\n",
       "</div>"
      ],
      "text/plain": [
       "       P     T    DenL   DenG   VisL     ST      ID   Ang       Vsl       Vsg  \\\n",
       "0  103.5  25.0  1000.0  1.200  0.001  0.070  0.0510 -80.0  0.898129  0.243692   \n",
       "1  100.0  20.0  1000.0  1.120  0.001  0.070  0.0254   0.0  0.121951  4.481707   \n",
       "2  100.0  22.0   860.0  4.134  0.007  0.032  0.0512  -1.0  0.371803  0.839364   \n",
       "3  103.9  25.0  1000.0  1.200  0.001  0.070  0.0250 -80.0  0.106229  4.068800   \n",
       "4  103.1  25.0  1000.0  1.200  0.001  0.070  0.0250 -30.0  0.010311  0.015488   \n",
       "\n",
       "   Flow Pattern.1  \n",
       "0               3  \n",
       "1               4  \n",
       "2               4  \n",
       "3               2  \n",
       "4               2  "
      ]
     },
     "execution_count": 5,
     "metadata": {},
     "output_type": "execute_result"
    }
   ],
   "source": [
    "#Here one should load the dataset:\n",
    "df_test = pd.read_csv('Data/Test.csv')\n",
    "df_test.head()"
   ]
  },
  {
   "cell_type": "code",
   "execution_count": 6,
   "metadata": {},
   "outputs": [],
   "source": [
    "#Here we can test different performance of the neural netowrk with respect to smaller subset of the test dataset\n",
    "df_test.reset_index(drop=True, inplace=True)"
   ]
  },
  {
   "cell_type": "code",
   "execution_count": 7,
   "metadata": {},
   "outputs": [],
   "source": [
    "col_names = df_test.iloc[:,:-1].columns"
   ]
  },
  {
   "cell_type": "code",
   "execution_count": 8,
   "metadata": {},
   "outputs": [],
   "source": [
    "#This dataset is raw, we can however we have the normalizing constants from the preprocessing script\n",
    "normalizing = pd.read_csv('Data/Normalizing.csv')\n",
    "#We take every element of the df and normalize them:\n",
    "val_n = np.zeros([df_test.shape[0], df_test.shape[1]-1])\n",
    "for isig in range(df_test.shape[1]-1):\n",
    "    val_n[:,isig]=(df_test.iloc[:,isig]-normalizing.iloc[isig,0])/normalizing.iloc[isig,1]\n",
    "    \n",
    "df_test = pd.concat([pd.DataFrame(val_n, columns=col_names), df_test.iloc[:,-1]], axis=1)"
   ]
  },
  {
   "cell_type": "code",
   "execution_count": 9,
   "metadata": {},
   "outputs": [
    {
     "name": "stdout",
     "output_type": "stream",
     "text": [
      "[0.8673469387755102, 0.8189655172413793, 0.9234234234234234, 0.8910891089108911, 0.9150326797385621] [196, 116, 222, 303, 306]\n"
     ]
    }
   ],
   "source": [
    "#We select the total dataset to test its accuracy\n",
    "X_old = np.array(df_test.iloc[:,:-1]) #Features\n",
    "Y_old = np.array(df_test.iloc[:,-1])  #Labels\n",
    "\n",
    "X_validation = torch.Tensor(X_old)\n",
    "Y_validation = torch.Tensor(np.eye(5)[[i for i in Y_old]])\n",
    "\n",
    "accuracy = []\n",
    "cc = []\n",
    "cr = []\n",
    "\n",
    "errors = []\n",
    "labels = []\n",
    "predicted = []\n",
    "\n",
    "for j in range(5):\n",
    "    acc = 0\n",
    "    count = 0\n",
    "    for i in range(0, len(X_validation)):  \n",
    "        if torch.argmax(Y_validation[[i]]) == j:\n",
    "            net_out = net(X_validation[[i]])\n",
    "            if torch.argmax(net_out).item() == torch.argmax(Y_validation[[i]]):\n",
    "                acc +=1\n",
    "                count +=1\n",
    "            else:\n",
    "                count +=1\n",
    "                errors.append(X_old[i]) #We store where we commit the error in the error list\n",
    "                predicted.append(torch.argmax(net_out).item())\n",
    "                labels.append(Y_old[i]) #We store the missed label in the label list\n",
    "                \n",
    "    if count==0:\n",
    "        accuracy.append(np.nan)\n",
    "    else:\n",
    "        accuracy.append(acc/count)\n",
    "        \n",
    "    cr.append(acc)                    \n",
    "    cc.append(count)\n",
    "    \n",
    "print(accuracy, cc) #Kinda a cross entropy matrix"
   ]
  },
  {
   "cell_type": "code",
   "execution_count": 10,
   "metadata": {},
   "outputs": [
    {
     "name": "stdout",
     "output_type": "stream",
     "text": [
      "0.8923884514435696\n"
     ]
    }
   ],
   "source": [
    "print(sum(cr)/sum(cc))"
   ]
  },
  {
   "cell_type": "code",
   "execution_count": 11,
   "metadata": {},
   "outputs": [
    {
     "data": {
      "text/plain": [
       "'Annular'"
      ]
     },
     "execution_count": 11,
     "metadata": {},
     "output_type": "execute_result"
    }
   ],
   "source": [
    "#Test single elements of the neural network:\n",
    "net_out = net(X_validation[[0]])\n",
    "Dict = {0: 'Dispersed Bubble', 1: 'Stratifeid Smoth', 2: 'Stratified Wavy', 3:'Annular', 4:'Intermittent'} \n",
    "Dict[torch.argmax(net_out).item()]"
   ]
  },
  {
   "cell_type": "code",
   "execution_count": 12,
   "metadata": {},
   "outputs": [
    {
     "data": {
      "text/html": [
       "<div>\n",
       "<style scoped>\n",
       "    .dataframe tbody tr th:only-of-type {\n",
       "        vertical-align: middle;\n",
       "    }\n",
       "\n",
       "    .dataframe tbody tr th {\n",
       "        vertical-align: top;\n",
       "    }\n",
       "\n",
       "    .dataframe thead th {\n",
       "        text-align: right;\n",
       "    }\n",
       "</style>\n",
       "<table border=\"1\" class=\"dataframe\">\n",
       "  <thead>\n",
       "    <tr style=\"text-align: right;\">\n",
       "      <th>Predicted</th>\n",
       "      <th>AN</th>\n",
       "      <th>DB</th>\n",
       "      <th>IN</th>\n",
       "      <th>SS</th>\n",
       "      <th>SW</th>\n",
       "      <th>All</th>\n",
       "    </tr>\n",
       "    <tr>\n",
       "      <th>True</th>\n",
       "      <th></th>\n",
       "      <th></th>\n",
       "      <th></th>\n",
       "      <th></th>\n",
       "      <th></th>\n",
       "      <th></th>\n",
       "    </tr>\n",
       "  </thead>\n",
       "  <tbody>\n",
       "    <tr>\n",
       "      <th>AN</th>\n",
       "      <td>270</td>\n",
       "      <td>0</td>\n",
       "      <td>18</td>\n",
       "      <td>4</td>\n",
       "      <td>11</td>\n",
       "      <td>303</td>\n",
       "    </tr>\n",
       "    <tr>\n",
       "      <th>DB</th>\n",
       "      <td>0</td>\n",
       "      <td>170</td>\n",
       "      <td>26</td>\n",
       "      <td>0</td>\n",
       "      <td>0</td>\n",
       "      <td>196</td>\n",
       "    </tr>\n",
       "    <tr>\n",
       "      <th>IN</th>\n",
       "      <td>5</td>\n",
       "      <td>10</td>\n",
       "      <td>280</td>\n",
       "      <td>4</td>\n",
       "      <td>7</td>\n",
       "      <td>306</td>\n",
       "    </tr>\n",
       "    <tr>\n",
       "      <th>SS</th>\n",
       "      <td>5</td>\n",
       "      <td>0</td>\n",
       "      <td>12</td>\n",
       "      <td>95</td>\n",
       "      <td>4</td>\n",
       "      <td>116</td>\n",
       "    </tr>\n",
       "    <tr>\n",
       "      <th>SW</th>\n",
       "      <td>8</td>\n",
       "      <td>0</td>\n",
       "      <td>8</td>\n",
       "      <td>1</td>\n",
       "      <td>205</td>\n",
       "      <td>222</td>\n",
       "    </tr>\n",
       "    <tr>\n",
       "      <th>All</th>\n",
       "      <td>288</td>\n",
       "      <td>180</td>\n",
       "      <td>344</td>\n",
       "      <td>104</td>\n",
       "      <td>227</td>\n",
       "      <td>1143</td>\n",
       "    </tr>\n",
       "  </tbody>\n",
       "</table>\n",
       "</div>"
      ],
      "text/plain": [
       "Predicted   AN   DB   IN   SS   SW   All\n",
       "True                                    \n",
       "AN         270    0   18    4   11   303\n",
       "DB           0  170   26    0    0   196\n",
       "IN           5   10  280    4    7   306\n",
       "SS           5    0   12   95    4   116\n",
       "SW           8    0    8    1  205   222\n",
       "All        288  180  344  104  227  1143"
      ]
     },
     "execution_count": 12,
     "metadata": {},
     "output_type": "execute_result"
    }
   ],
   "source": [
    "Dict = {0: 'DB', 1: 'SS', 2: 'SW', 3:'AN', 4:'IN'} \n",
    "y_pred = []\n",
    "y_true = []\n",
    "for i in range(0, len(X_validation)):\n",
    "    net_out = net(X_validation[[i]])\n",
    "    y_pred.append(Dict[torch.argmax(net_out).item()])\n",
    "    y_true.append(Dict[torch.argmax(Y_validation[[i]]).item()])\n",
    "    \n",
    "y_true = pd.Series(np.array(y_true))\n",
    "y_pred = pd.Series(np.array(y_pred))\n",
    "cross = pd.crosstab(y_true, y_pred, rownames=['True'], colnames=['Predicted'], margins=True)\n",
    "\n",
    "cross"
   ]
  },
  {
   "cell_type": "code",
   "execution_count": 13,
   "metadata": {},
   "outputs": [],
   "source": [
    "try:\n",
    "    df_errors = pd.DataFrame(errors)\n",
    "    df_label = pd.DataFrame(labels, columns=['True'])\n",
    "    df_predicted = pd.DataFrame(predicted, columns=['Predicted'])\n",
    "    #We remove the normalization:\n",
    "    val_n = np.zeros([df_errors.shape[0], df_errors.shape[1]])\n",
    "    for isig in range(df_errors.shape[1]):\n",
    "        val_n[:,isig]=(df_errors.iloc[:,isig]*normalizing.iloc[isig,1])+normalizing.iloc[isig,0]\n",
    "\n",
    "    df_errors = pd.concat([pd.DataFrame(val_n, columns=col_names), df_label, df_predicted], axis=1)\n",
    "\n",
    "\n",
    "    df_errors.to_csv('Data/Errors.csv', index=False)\n",
    "except:\n",
    "    print('Congratulation, no error found!')"
   ]
  },
  {
   "cell_type": "code",
   "execution_count": null,
   "metadata": {},
   "outputs": [],
   "source": []
  }
 ],
 "metadata": {
  "kernelspec": {
   "display_name": "Python 3",
   "language": "python",
   "name": "python3"
  },
  "language_info": {
   "codemirror_mode": {
    "name": "ipython",
    "version": 3
   },
   "file_extension": ".py",
   "mimetype": "text/x-python",
   "name": "python",
   "nbconvert_exporter": "python",
   "pygments_lexer": "ipython3",
   "version": "3.7.6"
  }
 },
 "nbformat": 4,
 "nbformat_minor": 2
}
