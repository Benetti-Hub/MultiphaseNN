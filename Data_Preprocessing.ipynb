{
 "cells": [
  {
   "cell_type": "markdown",
   "metadata": {},
   "source": [
    "# In this script we clean the data and save the result in a csv file"
   ]
  },
  {
   "cell_type": "code",
   "execution_count": 1,
   "metadata": {},
   "outputs": [],
   "source": [
    "import pandas as pd\n",
    "import numpy as np\n",
    "from sklearn import preprocessing\n",
    "from sklearn.model_selection import train_test_split\n",
    "import matplotlib.pyplot as plt"
   ]
  },
  {
   "cell_type": "code",
   "execution_count": 2,
   "metadata": {},
   "outputs": [],
   "source": [
    "#Data import and cleaning:\n",
    "df = pd.read_csv('Data/Dataset4.csv')\n",
    "df = df.drop(columns=['Flow Pattern', 'L/D', 'Roughness', 'Type of liquid', 'Type of Gas', 'VisG']) #We drop meaningless columns\n",
    "df = df.fillna({\n",
    "    'T':25  #This is confirmed in the literature from another article of the same author where the data is missing\n",
    "})\n",
    "col_names = df.iloc[:,:-1].columns #Get column names"
   ]
  },
  {
   "cell_type": "code",
   "execution_count": 3,
   "metadata": {},
   "outputs": [
    {
     "data": {
      "text/html": [
       "<div>\n",
       "<style scoped>\n",
       "    .dataframe tbody tr th:only-of-type {\n",
       "        vertical-align: middle;\n",
       "    }\n",
       "\n",
       "    .dataframe tbody tr th {\n",
       "        vertical-align: top;\n",
       "    }\n",
       "\n",
       "    .dataframe thead th {\n",
       "        text-align: right;\n",
       "    }\n",
       "</style>\n",
       "<table border=\"1\" class=\"dataframe\">\n",
       "  <thead>\n",
       "    <tr style=\"text-align: right;\">\n",
       "      <th></th>\n",
       "      <th>P</th>\n",
       "      <th>T</th>\n",
       "      <th>DenL</th>\n",
       "      <th>DenG</th>\n",
       "      <th>VisL</th>\n",
       "      <th>ST</th>\n",
       "      <th>ID</th>\n",
       "      <th>Ang</th>\n",
       "      <th>Vsl</th>\n",
       "      <th>Vsg</th>\n",
       "      <th>Flow Pattern.1</th>\n",
       "    </tr>\n",
       "  </thead>\n",
       "  <tbody>\n",
       "    <tr>\n",
       "      <th>0</th>\n",
       "      <td>100.0</td>\n",
       "      <td>20.0</td>\n",
       "      <td>1000.0</td>\n",
       "      <td>1.12</td>\n",
       "      <td>0.001</td>\n",
       "      <td>0.07</td>\n",
       "      <td>0.0254</td>\n",
       "      <td>0.0</td>\n",
       "      <td>0.044817</td>\n",
       "      <td>0.814024</td>\n",
       "      <td>2</td>\n",
       "    </tr>\n",
       "    <tr>\n",
       "      <th>1</th>\n",
       "      <td>100.0</td>\n",
       "      <td>20.0</td>\n",
       "      <td>1000.0</td>\n",
       "      <td>1.12</td>\n",
       "      <td>0.001</td>\n",
       "      <td>0.07</td>\n",
       "      <td>0.0254</td>\n",
       "      <td>0.0</td>\n",
       "      <td>0.060976</td>\n",
       "      <td>0.814024</td>\n",
       "      <td>4</td>\n",
       "    </tr>\n",
       "    <tr>\n",
       "      <th>2</th>\n",
       "      <td>100.0</td>\n",
       "      <td>20.0</td>\n",
       "      <td>1000.0</td>\n",
       "      <td>1.12</td>\n",
       "      <td>0.001</td>\n",
       "      <td>0.07</td>\n",
       "      <td>0.0254</td>\n",
       "      <td>0.0</td>\n",
       "      <td>0.088110</td>\n",
       "      <td>0.814024</td>\n",
       "      <td>4</td>\n",
       "    </tr>\n",
       "    <tr>\n",
       "      <th>3</th>\n",
       "      <td>100.0</td>\n",
       "      <td>20.0</td>\n",
       "      <td>1000.0</td>\n",
       "      <td>1.12</td>\n",
       "      <td>0.001</td>\n",
       "      <td>0.07</td>\n",
       "      <td>0.0254</td>\n",
       "      <td>0.0</td>\n",
       "      <td>0.060976</td>\n",
       "      <td>1.103659</td>\n",
       "      <td>4</td>\n",
       "    </tr>\n",
       "    <tr>\n",
       "      <th>4</th>\n",
       "      <td>100.0</td>\n",
       "      <td>20.0</td>\n",
       "      <td>1000.0</td>\n",
       "      <td>1.12</td>\n",
       "      <td>0.001</td>\n",
       "      <td>0.07</td>\n",
       "      <td>0.0254</td>\n",
       "      <td>0.0</td>\n",
       "      <td>0.121951</td>\n",
       "      <td>1.103659</td>\n",
       "      <td>4</td>\n",
       "    </tr>\n",
       "  </tbody>\n",
       "</table>\n",
       "</div>"
      ],
      "text/plain": [
       "       P     T    DenL  DenG   VisL    ST      ID  Ang       Vsl       Vsg  \\\n",
       "0  100.0  20.0  1000.0  1.12  0.001  0.07  0.0254  0.0  0.044817  0.814024   \n",
       "1  100.0  20.0  1000.0  1.12  0.001  0.07  0.0254  0.0  0.060976  0.814024   \n",
       "2  100.0  20.0  1000.0  1.12  0.001  0.07  0.0254  0.0  0.088110  0.814024   \n",
       "3  100.0  20.0  1000.0  1.12  0.001  0.07  0.0254  0.0  0.060976  1.103659   \n",
       "4  100.0  20.0  1000.0  1.12  0.001  0.07  0.0254  0.0  0.121951  1.103659   \n",
       "\n",
       "   Flow Pattern.1  \n",
       "0               2  \n",
       "1               4  \n",
       "2               4  \n",
       "3               4  \n",
       "4               4  "
      ]
     },
     "execution_count": 3,
     "metadata": {},
     "output_type": "execute_result"
    }
   ],
   "source": [
    "df.dropna(axis=0, inplace=True)\n",
    "df['Flow Pattern.1'] = df['Flow Pattern.1'].replace(to_replace=7,value=1)\n",
    "df.iloc[:,-1] += -1 #Indices starts from 0\n",
    "#We store the fixed dataframe in df_map:\n",
    "df_map = df\n",
    "df.head()"
   ]
  },
  {
   "cell_type": "code",
   "execution_count": 4,
   "metadata": {},
   "outputs": [
    {
     "data": {
      "image/png": "[encoded data removed]",
      "text/plain": [
       "<Figure size 432x288 with 1 Axes>"
      ]
     },
     "metadata": {},
     "output_type": "display_data"
    }
   ],
   "source": [
    "#Check if the dataset is balanced:\n",
    "df_old = df\n",
    "\n",
    "sizes = df.iloc[:,-1].value_counts(normalize=True)\n",
    "sizes.array\n",
    "fig1, ax1 = plt.subplots()\n",
    "ax1.pie(sizes, labels=['Intermittent','Annular','Stratified Wavy','Dispersed Bubble','Stratifeid Smoth'], autopct='%1.1f%%',\n",
    "        shadow=True, startangle=90)\n",
    "ax1.axis('equal')  # Equal aspect ratio ensures that pie is drawn as a circle.\n",
    "\n",
    "plt.show()"
   ]
  },
  {
   "cell_type": "code",
   "execution_count": 5,
   "metadata": {},
   "outputs": [
    {
     "data": {
      "text/plain": [
       "(5715, 11)"
      ]
     },
     "execution_count": 5,
     "metadata": {},
     "output_type": "execute_result"
    }
   ],
   "source": [
    "#Please do not use this. It's really inefficient and now I'm too lazy to fix it\n",
    "from sklearn.utils import shuffle\n",
    "df = shuffle(df)\n",
    "df = df.reset_index(drop=True)\n",
    "j = 0\n",
    "while True: \n",
    "    try:    \n",
    "        if df.iloc[j,-1] == df.iloc[:,-1].value_counts(normalize=True).index[0]:\n",
    "            if df.iloc[:,-1].value_counts(normalize=True)[df.iloc[:,-1].value_counts().idxmax()] > 0.27:\n",
    "                df.drop(df.index[j], inplace=True)\n",
    "                df.reset_index(drop=True, inplace=True)\n",
    "            else:\n",
    "                break\n",
    "        j +=1\n",
    "    except:\n",
    "        j = 0\n",
    "df.shape"
   ]
  },
  {
   "cell_type": "code",
   "execution_count": 6,
   "metadata": {},
   "outputs": [
    {
     "data": {
      "image/png": "[encoded data removed]",
      "text/plain": [
       "<Figure size 432x288 with 1 Axes>"
      ]
     },
     "metadata": {},
     "output_type": "display_data"
    }
   ],
   "source": [
    "#Again, the same visualiation but after the cleanup\n",
    "\n",
    "sizes = df.iloc[:,-1].value_counts(normalize=True)\n",
    "sizes.array\n",
    "fig1, ax1 = plt.subplots()\n",
    "ax1.pie(sizes, labels=['Intermittent','Annular','Stratified Wavy','Dispersed Bubble','Stratifeid Smoth'], autopct='%1.1f%%',\n",
    "        shadow=True, startangle=90)\n",
    "ax1.axis('equal')  # Equal aspect ratio ensures that pie is drawn as a circle.\n",
    "\n",
    "plt.show()"
   ]
  },
  {
   "cell_type": "code",
   "execution_count": 7,
   "metadata": {},
   "outputs": [],
   "source": [
    "train, test = train_test_split(df, test_size=0.2)\n",
    "train.reset_index(drop=True, inplace=True)"
   ]
  },
  {
   "cell_type": "code",
   "execution_count": 8,
   "metadata": {},
   "outputs": [
    {
     "data": {
      "text/html": [
       "<div>\n",
       "<style scoped>\n",
       "    .dataframe tbody tr th:only-of-type {\n",
       "        vertical-align: middle;\n",
       "    }\n",
       "\n",
       "    .dataframe tbody tr th {\n",
       "        vertical-align: top;\n",
       "    }\n",
       "\n",
       "    .dataframe thead th {\n",
       "        text-align: right;\n",
       "    }\n",
       "</style>\n",
       "<table border=\"1\" class=\"dataframe\">\n",
       "  <thead>\n",
       "    <tr style=\"text-align: right;\">\n",
       "      <th></th>\n",
       "      <th>P</th>\n",
       "      <th>T</th>\n",
       "      <th>DenL</th>\n",
       "      <th>DenG</th>\n",
       "      <th>VisL</th>\n",
       "      <th>ST</th>\n",
       "      <th>ID</th>\n",
       "      <th>Ang</th>\n",
       "      <th>Vsl</th>\n",
       "      <th>Vsg</th>\n",
       "      <th>Flow Pattern.1</th>\n",
       "    </tr>\n",
       "  </thead>\n",
       "  <tbody>\n",
       "    <tr>\n",
       "      <th>0</th>\n",
       "      <td>-0.194309</td>\n",
       "      <td>-0.032980</td>\n",
       "      <td>-0.826681</td>\n",
       "      <td>0.065006</td>\n",
       "      <td>1.917958</td>\n",
       "      <td>-0.132685</td>\n",
       "      <td>1.175298</td>\n",
       "      <td>-0.115057</td>\n",
       "      <td>-0.558704</td>\n",
       "      <td>-0.611379</td>\n",
       "      <td>1</td>\n",
       "    </tr>\n",
       "    <tr>\n",
       "      <th>1</th>\n",
       "      <td>-0.194309</td>\n",
       "      <td>-0.103099</td>\n",
       "      <td>0.428424</td>\n",
       "      <td>-0.295661</td>\n",
       "      <td>-0.548339</td>\n",
       "      <td>-0.130714</td>\n",
       "      <td>-0.823292</td>\n",
       "      <td>0.009276</td>\n",
       "      <td>-0.506628</td>\n",
       "      <td>8.381121</td>\n",
       "      <td>3</td>\n",
       "    </tr>\n",
       "    <tr>\n",
       "      <th>2</th>\n",
       "      <td>-0.187193</td>\n",
       "      <td>0.072199</td>\n",
       "      <td>0.428424</td>\n",
       "      <td>-0.286088</td>\n",
       "      <td>-0.548339</td>\n",
       "      <td>-0.130714</td>\n",
       "      <td>-0.838998</td>\n",
       "      <td>0.382275</td>\n",
       "      <td>0.112605</td>\n",
       "      <td>-0.586413</td>\n",
       "      <td>4</td>\n",
       "    </tr>\n",
       "    <tr>\n",
       "      <th>3</th>\n",
       "      <td>-0.194309</td>\n",
       "      <td>-0.032980</td>\n",
       "      <td>-0.826681</td>\n",
       "      <td>0.065006</td>\n",
       "      <td>1.917958</td>\n",
       "      <td>-0.132685</td>\n",
       "      <td>0.189746</td>\n",
       "      <td>-0.214523</td>\n",
       "      <td>0.809237</td>\n",
       "      <td>-0.577565</td>\n",
       "      <td>0</td>\n",
       "    </tr>\n",
       "    <tr>\n",
       "      <th>4</th>\n",
       "      <td>-0.182664</td>\n",
       "      <td>0.072199</td>\n",
       "      <td>0.428424</td>\n",
       "      <td>-0.286088</td>\n",
       "      <td>-0.548339</td>\n",
       "      <td>-0.130714</td>\n",
       "      <td>-0.838998</td>\n",
       "      <td>1.252606</td>\n",
       "      <td>0.160095</td>\n",
       "      <td>0.808848</td>\n",
       "      <td>4</td>\n",
       "    </tr>\n",
       "  </tbody>\n",
       "</table>\n",
       "</div>"
      ],
      "text/plain": [
       "          P         T      DenL      DenG      VisL        ST        ID  \\\n",
       "0 -0.194309 -0.032980 -0.826681  0.065006  1.917958 -0.132685  1.175298   \n",
       "1 -0.194309 -0.103099  0.428424 -0.295661 -0.548339 -0.130714 -0.823292   \n",
       "2 -0.187193  0.072199  0.428424 -0.286088 -0.548339 -0.130714 -0.838998   \n",
       "3 -0.194309 -0.032980 -0.826681  0.065006  1.917958 -0.132685  0.189746   \n",
       "4 -0.182664  0.072199  0.428424 -0.286088 -0.548339 -0.130714 -0.838998   \n",
       "\n",
       "        Ang       Vsl       Vsg  Flow Pattern.1  \n",
       "0 -0.115057 -0.558704 -0.611379               1  \n",
       "1  0.009276 -0.506628  8.381121               3  \n",
       "2  0.382275  0.112605 -0.586413               4  \n",
       "3 -0.214523  0.809237 -0.577565               0  \n",
       "4  1.252606  0.160095  0.808848               4  "
      ]
     },
     "execution_count": 8,
     "metadata": {},
     "output_type": "execute_result"
    }
   ],
   "source": [
    "x = train.iloc[:,:-1].values #returns a numpy array\n",
    "scaler = preprocessing.StandardScaler()\n",
    "x_scaled = scaler.fit_transform(x)\n",
    "normalizing = pd.DataFrame({'Mean':scaler.mean_, 'Std':scaler.var_**0.5})\n",
    "train = pd.concat([pd.DataFrame(x_scaled, columns=col_names), train.iloc[:,-1]], axis=1)\n",
    "train.head()"
   ]
  },
  {
   "cell_type": "code",
   "execution_count": 9,
   "metadata": {},
   "outputs": [
    {
     "data": {
      "text/html": [
       "<div>\n",
       "<style scoped>\n",
       "    .dataframe tbody tr th:only-of-type {\n",
       "        vertical-align: middle;\n",
       "    }\n",
       "\n",
       "    .dataframe tbody tr th {\n",
       "        vertical-align: top;\n",
       "    }\n",
       "\n",
       "    .dataframe thead th {\n",
       "        text-align: right;\n",
       "    }\n",
       "</style>\n",
       "<table border=\"1\" class=\"dataframe\">\n",
       "  <thead>\n",
       "    <tr style=\"text-align: right;\">\n",
       "      <th></th>\n",
       "      <th>Mean</th>\n",
       "      <th>Std</th>\n",
       "    </tr>\n",
       "  </thead>\n",
       "  <tbody>\n",
       "    <tr>\n",
       "      <th>0</th>\n",
       "      <td>160.069707</td>\n",
       "      <td>309.145059</td>\n",
       "    </tr>\n",
       "    <tr>\n",
       "      <th>1</th>\n",
       "      <td>22.940687</td>\n",
       "      <td>28.522832</td>\n",
       "    </tr>\n",
       "    <tr>\n",
       "      <th>2</th>\n",
       "      <td>952.211701</td>\n",
       "      <td>111.544430</td>\n",
       "    </tr>\n",
       "    <tr>\n",
       "      <th>3</th>\n",
       "      <td>3.590760</td>\n",
       "      <td>8.356744</td>\n",
       "    </tr>\n",
       "    <tr>\n",
       "      <th>4</th>\n",
       "      <td>0.002334</td>\n",
       "      <td>0.002433</td>\n",
       "    </tr>\n",
       "  </tbody>\n",
       "</table>\n",
       "</div>"
      ],
      "text/plain": [
       "         Mean         Std\n",
       "0  160.069707  309.145059\n",
       "1   22.940687   28.522832\n",
       "2  952.211701  111.544430\n",
       "3    3.590760    8.356744\n",
       "4    0.002334    0.002433"
      ]
     },
     "execution_count": 9,
     "metadata": {},
     "output_type": "execute_result"
    }
   ],
   "source": [
    "normalizing.head()"
   ]
  },
  {
   "cell_type": "code",
   "execution_count": 10,
   "metadata": {},
   "outputs": [],
   "source": [
    "train.to_csv('Data/Train.csv',index = False)\n",
    "test.to_csv('Data/Test.csv',index = False)"
   ]
  },
  {
   "cell_type": "code",
   "execution_count": 11,
   "metadata": {},
   "outputs": [],
   "source": [
    "normalizing.to_csv('Data/Normalizing.csv', index=False)\n",
    "df_map.to_csv('Data/Map.csv', index=False)"
   ]
  },
  {
   "cell_type": "code",
   "execution_count": 12,
   "metadata": {},
   "outputs": [],
   "source": [
    "df_dropped = pd.concat([df_old, df]).drop_duplicates(keep=False)\n",
    "df_dropped.to_csv('Data/Dropped.csv', index=False)"
   ]
  },
  {
   "cell_type": "code",
   "execution_count": null,
   "metadata": {},
   "outputs": [],
   "source": []
  }
 ],
 "metadata": {
  "kernelspec": {
   "display_name": "Python 3",
   "language": "python",
   "name": "python3"
  },
  "language_info": {
   "codemirror_mode": {
    "name": "ipython",
    "version": 3
   },
   "file_extension": ".py",
   "mimetype": "text/x-python",
   "name": "python",
   "nbconvert_exporter": "python",
   "pygments_lexer": "ipython3",
   "version": "3.7.6"
  }
 },
 "nbformat": 4,
 "nbformat_minor": 2
}
